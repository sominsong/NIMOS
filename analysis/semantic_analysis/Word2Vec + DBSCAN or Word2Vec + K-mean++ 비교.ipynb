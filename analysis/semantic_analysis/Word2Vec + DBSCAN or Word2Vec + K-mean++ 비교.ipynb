{
 "cells": [
  {
   "cell_type": "code",
   "execution_count": 165,
   "id": "9bcae42d",
   "metadata": {},
   "outputs": [
    {
     "data": {
      "text/html": [
       "<div>\n",
       "<style scoped>\n",
       "    .dataframe tbody tr th:only-of-type {\n",
       "        vertical-align: middle;\n",
       "    }\n",
       "\n",
       "    .dataframe tbody tr th {\n",
       "        vertical-align: top;\n",
       "    }\n",
       "\n",
       "    .dataframe thead th {\n",
       "        text-align: right;\n",
       "    }\n",
       "</style>\n",
       "<table border=\"1\" class=\"dataframe\">\n",
       "  <thead>\n",
       "    <tr style=\"text-align: right;\">\n",
       "      <th></th>\n",
       "      <th>EID</th>\n",
       "      <th>PATH_NUM</th>\n",
       "      <th>SYSCALL_PATH</th>\n",
       "    </tr>\n",
       "  </thead>\n",
       "  <tbody>\n",
       "    <tr>\n",
       "      <th>0</th>\n",
       "      <td>10613</td>\n",
       "      <td>exit_code</td>\n",
       "      <td>[102, 1]</td>\n",
       "    </tr>\n",
       "    <tr>\n",
       "      <th>1</th>\n",
       "      <td>10613</td>\n",
       "      <td>exit_code</td>\n",
       "      <td>[102, 1, 12, 12, 1, 59]</td>\n",
       "    </tr>\n",
       "    <tr>\n",
       "      <th>2</th>\n",
       "      <td>10613</td>\n",
       "      <td>exit_code</td>\n",
       "      <td>[102, 1]</td>\n",
       "    </tr>\n",
       "    <tr>\n",
       "      <th>3</th>\n",
       "      <td>10613</td>\n",
       "      <td>exit_code</td>\n",
       "      <td>[102, 1, 12, 12, 1, 59]</td>\n",
       "    </tr>\n",
       "    <tr>\n",
       "      <th>4</th>\n",
       "      <td>10613</td>\n",
       "      <td>main</td>\n",
       "      <td>[102, 104, 1, 117, 119, 9, 9, 9, 9, 11]</td>\n",
       "    </tr>\n",
       "    <tr>\n",
       "      <th>...</th>\n",
       "      <td>...</td>\n",
       "      <td>...</td>\n",
       "      <td>...</td>\n",
       "    </tr>\n",
       "    <tr>\n",
       "      <th>4076</th>\n",
       "      <td>9545</td>\n",
       "      <td>main</td>\n",
       "      <td>[102, 104, 9, 41]</td>\n",
       "    </tr>\n",
       "    <tr>\n",
       "      <th>4077</th>\n",
       "      <td>9545</td>\n",
       "      <td>main</td>\n",
       "      <td>[102, 104, 9, 41, 87, 77, 40, 59]</td>\n",
       "    </tr>\n",
       "    <tr>\n",
       "      <th>4078</th>\n",
       "      <td>9545</td>\n",
       "      <td>main</td>\n",
       "      <td>[102, 104, 9]</td>\n",
       "    </tr>\n",
       "    <tr>\n",
       "      <th>4079</th>\n",
       "      <td>9575</td>\n",
       "      <td>main</td>\n",
       "      <td>[41, inet_addr, htons, 9, 46, 46, 3, 13, 13, 1...</td>\n",
       "    </tr>\n",
       "    <tr>\n",
       "      <th>4080</th>\n",
       "      <td>9575</td>\n",
       "      <td>main</td>\n",
       "      <td>[41, inet_addr, htons, 9, 46, 46, 3, 13, 13, 1...</td>\n",
       "    </tr>\n",
       "  </tbody>\n",
       "</table>\n",
       "<p>4081 rows × 3 columns</p>\n",
       "</div>"
      ],
      "text/plain": [
       "        EID   PATH_NUM                                       SYSCALL_PATH\n",
       "0     10613  exit_code                                           [102, 1]\n",
       "1     10613  exit_code                            [102, 1, 12, 12, 1, 59]\n",
       "2     10613  exit_code                                           [102, 1]\n",
       "3     10613  exit_code                            [102, 1, 12, 12, 1, 59]\n",
       "4     10613       main            [102, 104, 1, 117, 119, 9, 9, 9, 9, 11]\n",
       "...     ...        ...                                                ...\n",
       "4076   9545       main                                  [102, 104, 9, 41]\n",
       "4077   9545       main                  [102, 104, 9, 41, 87, 77, 40, 59]\n",
       "4078   9545       main                                      [102, 104, 9]\n",
       "4079   9575       main  [41, inet_addr, htons, 9, 46, 46, 3, 13, 13, 1...\n",
       "4080   9575       main  [41, inet_addr, htons, 9, 46, 46, 3, 13, 13, 1...\n",
       "\n",
       "[4081 rows x 3 columns]"
      ]
     },
     "execution_count": 165,
     "metadata": {},
     "output_type": "execute_result"
    }
   ],
   "source": [
    "import pickle\n",
    "import pandas as pd\n",
    "\n",
    "# 데이터 읽어오기\n",
    "df = pd.read_pickle('path_df.pkl')\n",
    "df"
   ]
  },
  {
   "cell_type": "code",
   "execution_count": 166,
   "id": "c37b4282",
   "metadata": {},
   "outputs": [
    {
     "data": {
      "text/html": [
       "<div>\n",
       "<style scoped>\n",
       "    .dataframe tbody tr th:only-of-type {\n",
       "        vertical-align: middle;\n",
       "    }\n",
       "\n",
       "    .dataframe tbody tr th {\n",
       "        vertical-align: top;\n",
       "    }\n",
       "\n",
       "    .dataframe thead th {\n",
       "        text-align: right;\n",
       "    }\n",
       "</style>\n",
       "<table border=\"1\" class=\"dataframe\">\n",
       "  <thead>\n",
       "    <tr style=\"text-align: right;\">\n",
       "      <th></th>\n",
       "      <th>EID</th>\n",
       "      <th>SYSCALL_PATH</th>\n",
       "    </tr>\n",
       "  </thead>\n",
       "  <tbody>\n",
       "    <tr>\n",
       "      <th>0</th>\n",
       "      <td>10613</td>\n",
       "      <td>[102, 1, 102, 1, 102, 1, 12, 12, 1, 59, 102, 1...</td>\n",
       "    </tr>\n",
       "    <tr>\n",
       "      <th>1</th>\n",
       "      <td>12</td>\n",
       "      <td>[101, 101, 101, 101, 101, 101, 101, 101, 101, ...</td>\n",
       "    </tr>\n",
       "    <tr>\n",
       "      <th>2</th>\n",
       "      <td>1397</td>\n",
       "      <td>[125, 125, 125, 125, 125, 125, 125, 125, 125, ...</td>\n",
       "    </tr>\n",
       "    <tr>\n",
       "      <th>3</th>\n",
       "      <td>14814</td>\n",
       "      <td>[prepare_kernel_cred, commit_cred, prepare_ker...</td>\n",
       "    </tr>\n",
       "    <tr>\n",
       "      <th>4</th>\n",
       "      <td>15023</td>\n",
       "      <td>[prepare_kernel_cred, commit_cred, prepare_ker...</td>\n",
       "    </tr>\n",
       "    <tr>\n",
       "      <th>...</th>\n",
       "      <td>...</td>\n",
       "      <td>...</td>\n",
       "    </tr>\n",
       "    <tr>\n",
       "      <th>96</th>\n",
       "      <td>9083</td>\n",
       "      <td>[3, 3, 3, 3, 3, 3, 3, 3, 3, 203, 203, 12, 12, ...</td>\n",
       "    </tr>\n",
       "    <tr>\n",
       "      <th>97</th>\n",
       "      <td>926</td>\n",
       "      <td>[13, 13, 14, 9, 14, 56, 11, 14, 61, 13, 13, 14...</td>\n",
       "    </tr>\n",
       "    <tr>\n",
       "      <th>98</th>\n",
       "      <td>9479</td>\n",
       "      <td>[102, 104, 135, 10, 257, 41, 40, 3, 41, 102, 4...</td>\n",
       "    </tr>\n",
       "    <tr>\n",
       "      <th>99</th>\n",
       "      <td>9542</td>\n",
       "      <td>[102, 104, 135, 9, 41, 44, 44, 102, 102, 104, ...</td>\n",
       "    </tr>\n",
       "    <tr>\n",
       "      <th>100</th>\n",
       "      <td>9545</td>\n",
       "      <td>[102, 104, 9, 41, 87, 77, 102, 104, 9, 41, 87,...</td>\n",
       "    </tr>\n",
       "  </tbody>\n",
       "</table>\n",
       "<p>101 rows × 2 columns</p>\n",
       "</div>"
      ],
      "text/plain": [
       "       EID                                       SYSCALL_PATH\n",
       "0    10613  [102, 1, 102, 1, 102, 1, 12, 12, 1, 59, 102, 1...\n",
       "1       12  [101, 101, 101, 101, 101, 101, 101, 101, 101, ...\n",
       "2     1397  [125, 125, 125, 125, 125, 125, 125, 125, 125, ...\n",
       "3    14814  [prepare_kernel_cred, commit_cred, prepare_ker...\n",
       "4    15023  [prepare_kernel_cred, commit_cred, prepare_ker...\n",
       "..     ...                                                ...\n",
       "96    9083  [3, 3, 3, 3, 3, 3, 3, 3, 3, 203, 203, 12, 12, ...\n",
       "97     926  [13, 13, 14, 9, 14, 56, 11, 14, 61, 13, 13, 14...\n",
       "98    9479  [102, 104, 135, 10, 257, 41, 40, 3, 41, 102, 4...\n",
       "99    9542  [102, 104, 135, 9, 41, 44, 44, 102, 102, 104, ...\n",
       "100   9545  [102, 104, 9, 41, 87, 77, 102, 104, 9, 41, 87,...\n",
       "\n",
       "[101 rows x 2 columns]"
      ]
     },
     "execution_count": 166,
     "metadata": {},
     "output_type": "execute_result"
    }
   ],
   "source": [
    "# EID: Syscall Path 형태로 만들어주기 (기존의 Syscall_Path 모두 붇이기)\n",
    "exploit = pd.DataFrame( columns = {'EID','SYSCALL_PATH'})\n",
    "new_data = {\"EID\":\"\", \"SYSCALL_PATH\": list()}\n",
    "concat_path = list()\n",
    "for idx in df.index:\n",
    "    if idx == 0:\n",
    "        new_data = {\"EID\":df.loc[idx,'EID'], \"SYSCALL_PATH\": df.loc[idx,'SYSCALL_PATH']}\n",
    "    if not df.loc[idx,'EID'] == new_data[\"EID\"]:\n",
    "        exploit = exploit.append(new_data, ignore_index=True)\n",
    "        new_data = {\"EID\":df.loc[idx,'EID'], \"SYSCALL_PATH\": df.loc[idx,'SYSCALL_PATH']}\n",
    "        new_data[\"EID\"] = df.loc[idx,'EID']\n",
    "        new_data[\"SYSCALL_PATH\"].extend(df.loc[idx,'SYSCALL_PATH'])\n",
    "    else:\n",
    "        new_data[\"SYSCALL_PATH\"].extend(df.loc[idx,'SYSCALL_PATH'])\n",
    "exploit"
   ]
  },
  {
   "cell_type": "code",
   "execution_count": 169,
   "id": "dbc811b7",
   "metadata": {
    "collapsed": true
   },
   "outputs": [
    {
     "data": {
      "text/plain": [
       "[['102',\n",
       "  '1',\n",
       "  '102',\n",
       "  '1',\n",
       "  '102',\n",
       "  '1',\n",
       "  '12',\n",
       "  '12',\n",
       "  '1',\n",
       "  '59',\n",
       "  '102',\n",
       "  '1',\n",
       "  '102',\n",
       "  '1',\n",
       "  '12',\n",
       "  '12',\n",
       "  '1',\n",
       "  '59',\n",
       "  '102',\n",
       "  '104',\n",
       "  '1',\n",
       "  '117',\n",
       "  '119',\n",
       "  '9',\n",
       "  '9',\n",
       "  '9',\n",
       "  '9',\n",
       "  '11',\n",
       "  '102',\n",
       "  '104',\n",
       "  '1',\n",
       "  '117',\n",
       "  '119',\n",
       "  '9',\n",
       "  '9',\n",
       "  '9',\n",
       "  '9',\n",
       "  '11',\n",
       "  '22',\n",
       "  '3',\n",
       "  '13',\n",
       "  '278',\n",
       "  '102',\n",
       "  '104',\n",
       "  '1',\n",
       "  '117',\n",
       "  '119',\n",
       "  '9',\n",
       "  '9',\n",
       "  '9',\n",
       "  '9',\n",
       "  '11',\n",
       "  '22',\n",
       "  '102',\n",
       "  '104',\n",
       "  '1',\n",
       "  '117',\n",
       "  '119',\n",
       "  '9',\n",
       "  '9',\n",
       "  '9',\n",
       "  '9',\n",
       "  '11',\n",
       "  '102',\n",
       "  '104',\n",
       "  '1',\n",
       "  '117',\n",
       "  '119',\n",
       "  '9',\n",
       "  '9',\n",
       "  '9',\n",
       "  '9',\n",
       "  '11',\n",
       "  '22',\n",
       "  '3',\n",
       "  '13',\n",
       "  '278',\n",
       "  '102',\n",
       "  '104',\n",
       "  '1',\n",
       "  '117',\n",
       "  '119',\n",
       "  '9',\n",
       "  '9',\n",
       "  '9',\n",
       "  '9',\n",
       "  '11',\n",
       "  '22'],\n",
       " ['102', '1', '12', '12', '1', '59'],\n",
       " ['102', '1'],\n",
       " ['102', '1', '12', '12', '1', '59'],\n",
       " ['102', '104', '1', '117', '119', '9', '9', '9', '9', '11'],\n",
       " ['102',\n",
       "  '104',\n",
       "  '1',\n",
       "  '117',\n",
       "  '119',\n",
       "  '9',\n",
       "  '9',\n",
       "  '9',\n",
       "  '9',\n",
       "  '11',\n",
       "  '22',\n",
       "  '3',\n",
       "  '13',\n",
       "  '278'],\n",
       " ['102', '104', '1', '117', '119', '9', '9', '9', '9', '11', '22'],\n",
       " ['102', '104', '1', '117', '119', '9', '9', '9', '9', '11'],\n",
       " ['102',\n",
       "  '104',\n",
       "  '1',\n",
       "  '117',\n",
       "  '119',\n",
       "  '9',\n",
       "  '9',\n",
       "  '9',\n",
       "  '9',\n",
       "  '11',\n",
       "  '22',\n",
       "  '3',\n",
       "  '13',\n",
       "  '278'],\n",
       " ['102', '104', '1', '117', '119', '9', '9', '9', '9', '11', '22']]"
      ]
     },
     "execution_count": 169,
     "metadata": {},
     "output_type": "execute_result"
    }
   ],
   "source": [
    "# syscall path만 뽑아서 이차원 데이터로 만들기\n",
    "tokened_syscall_path = [syscall for syscall in df['SYSCALL_PATH']]\n",
    "tokened_syscall_path[:10]"
   ]
  },
  {
   "cell_type": "code",
   "execution_count": 170,
   "id": "1c8c4342",
   "metadata": {},
   "outputs": [],
   "source": [
    "# 모든 path 시퀀스 Word2Vec 훈련시키기\n",
    "from gensim.models import Word2Vec\n",
    "\n",
    "word2vec_model = Word2Vec(tokened_syscall_path, size=300, window=2, min_count=1, iter=20, sg=1)"
   ]
  },
  {
   "cell_type": "code",
   "execution_count": 171,
   "id": "06e437cd",
   "metadata": {},
   "outputs": [],
   "source": [
    "import numpy as np\n",
    "# 각 exploit에 존재하는 system call들의 vector 값의 평균을 구하여 해당 exploit code의 vector값을 구함\n",
    "def get_exploit_vectors(document_list):\n",
    "    document_embedding_list = []\n",
    "\n",
    "    # 각 Exploit에 대해서\n",
    "    for line in document_list:\n",
    "        doc2vec = None\n",
    "        count = 0\n",
    "        for word in line:\n",
    "            if word in word2vec_model.wv.vocab:\n",
    "                count += 1\n",
    "                # 해당 Exploit에 있는 모든 syscall들의 벡터값을 더한다.\n",
    "                if doc2vec is None:\n",
    "                    doc2vec = word2vec_model[word]\n",
    "                else:\n",
    "                    doc2vec = doc2vec + word2vec_model[word]\n",
    "\n",
    "        if doc2vec is not None:\n",
    "            # syscall 벡터를 모두 더한 벡터의 값을 Exploit 길이로 나눠준다.\n",
    "            doc2vec = doc2vec / count\n",
    "            document_embedding_list.append(doc2vec)\n",
    "        else:\n",
    "            document_embedding_list.append(np.zeros(100))\n",
    "\n",
    "    # 각 Exploit에 대한 Exploit 벡터 리스트를 리턴\n",
    "    return document_embedding_list"
   ]
  },
  {
   "cell_type": "code",
   "execution_count": 172,
   "id": "256f1f8a",
   "metadata": {},
   "outputs": [
    {
     "name": "stderr",
     "output_type": "stream",
     "text": [
      "/tmp/ipykernel_1964756/2519065890.py:15: DeprecationWarning: Call to deprecated `__getitem__` (Method will be removed in 4.0.0, use self.wv.__getitem__() instead).\n",
      "  doc2vec = word2vec_model[word]\n",
      "/tmp/ipykernel_1964756/2519065890.py:17: DeprecationWarning: Call to deprecated `__getitem__` (Method will be removed in 4.0.0, use self.wv.__getitem__() instead).\n",
      "  doc2vec = doc2vec + word2vec_model[word]\n"
     ]
    },
    {
     "name": "stdout",
     "output_type": "stream",
     "text": [
      "문서 벡터의 수 : 101\n"
     ]
    }
   ],
   "source": [
    "exploit_embedding_list = get_exploit_vectors(exploit['SYSCALL_PATH'])\n",
    "print('문서 벡터의 수 :',len(exploit_embedding_list))"
   ]
  },
  {
   "cell_type": "code",
   "execution_count": 98,
   "id": "76eaa610",
   "metadata": {},
   "outputs": [
    {
     "name": "stdout",
     "output_type": "stream",
     "text": [
      "코사인 유사도 매트릭스의 크기 : (101, 101)\n"
     ]
    }
   ],
   "source": [
    "# from sklearn.metrics.pairwise import cosine_similarity\n",
    "# exploit_cosine_similarities = cosine_similarity(exploit_embedding_list, exploit_embedding_list)\n",
    "# print('코사인 유사도 매트릭스의 크기 :',exploit_cosine_similarities.shape)"
   ]
  },
  {
   "cell_type": "markdown",
   "id": "b1ca9873",
   "metadata": {},
   "source": [
    "### K-mean++알고리즘 사용한 Clustering"
   ]
  },
  {
   "cell_type": "markdown",
   "id": "4959e053",
   "metadata": {},
   "source": [
    "주성분의 총분산과 설명된 분산 의미 참고: https://dnai-deny.tistory.com/16"
   ]
  },
  {
   "cell_type": "code",
   "execution_count": 173,
   "id": "d24ba349",
   "metadata": {},
   "outputs": [
    {
     "data": {
      "text/plain": [
       "<Figure size 432x288 with 0 Axes>"
      ]
     },
     "metadata": {},
     "output_type": "display_data"
    },
    {
     "data": {
      "text/plain": [
       "<Figure size 800x300 with 0 Axes>"
      ]
     },
     "metadata": {},
     "output_type": "display_data"
    },
    {
     "data": {
      "image/png": "[encoded data removed]",
      "text/plain": [
       "<Figure size 1200x800 with 1 Axes>"
      ]
     },
     "metadata": {},
     "output_type": "display_data"
    }
   ],
   "source": [
    "# min_sampel과 eps 결정 참고: https://rfriend.tistory.com/588\n",
    "from sklearn.cluster import KMeans as km\n",
    "inertia = []    # cluster 응집도\n",
    "for k in range(1,51):    # 50개까지\n",
    "    km_model = km(n_clusters = k, init='k-means++')\n",
    "    km_model.fit(exploit_embedding_list)\n",
    "    inertia.append(km_model.inertia_)\n",
    "\n",
    "# 그래프로 출력\n",
    "import matplotlib.pyplot as plt\n",
    "from matplotlib import style\n",
    "import numpy as np\n",
    "\n",
    "plt.clf()\n",
    "plt.style.use('default')\n",
    "plt.style.use('seaborn-paper')\n",
    "fig = plt.figure(figsize=(8, 3))\n",
    "\n",
    "xpos = np.array(range(1,51))\n",
    "fig = plt.figure(figsize=(12, 8))\n",
    "plt.plot(xpos, inertia, marker='o', linestyle='--', color='#2ca02c')\n",
    "plt.xlabel(\"k size\", fontsize=15)\n",
    "plt.xticks(xpos, xpos)\n",
    "plt.ylabel(\"inertia\", fontsize=15)\n",
    "plt.show()"
   ]
  },
  {
   "cell_type": "code",
   "execution_count": 219,
   "id": "d7dfcf64",
   "metadata": {},
   "outputs": [],
   "source": [
    "def unsupervised_learning(data, n): # n = k 수\n",
    "    # cluster 개수 -> km_model.inertia_ 를 보면 기울기 변화가 적어지는 부분이 20\n",
    "    km_model = km(n_clusters = n, algorithm = 'auto')\n",
    "    km_model.fit(data)    # 학습\n",
    "    predict_list = km_model.predict(data)    # clustering\n",
    "    return predict_list"
   ]
  },
  {
   "cell_type": "code",
   "execution_count": 220,
   "id": "5d8955ff",
   "metadata": {},
   "outputs": [
    {
     "data": {
      "text/html": [
       "<div>\n",
       "<style scoped>\n",
       "    .dataframe tbody tr th:only-of-type {\n",
       "        vertical-align: middle;\n",
       "    }\n",
       "\n",
       "    .dataframe tbody tr th {\n",
       "        vertical-align: top;\n",
       "    }\n",
       "\n",
       "    .dataframe thead th {\n",
       "        text-align: right;\n",
       "    }\n",
       "</style>\n",
       "<table border=\"1\" class=\"dataframe\">\n",
       "  <thead>\n",
       "    <tr style=\"text-align: right;\">\n",
       "      <th></th>\n",
       "      <th>EID</th>\n",
       "      <th>SYSCALL_PATH</th>\n",
       "      <th>km_label</th>\n",
       "      <th>dbscan_label</th>\n",
       "    </tr>\n",
       "  </thead>\n",
       "  <tbody>\n",
       "    <tr>\n",
       "      <th>0</th>\n",
       "      <td>10613</td>\n",
       "      <td>[102, 1, 102, 1, 102, 1, 12, 12, 1, 59, 102, 1...</td>\n",
       "      <td>10</td>\n",
       "      <td>0</td>\n",
       "    </tr>\n",
       "    <tr>\n",
       "      <th>1</th>\n",
       "      <td>12</td>\n",
       "      <td>[101, 101, 101, 101, 101, 101, 101, 101, 101, ...</td>\n",
       "      <td>11</td>\n",
       "      <td>0</td>\n",
       "    </tr>\n",
       "    <tr>\n",
       "      <th>2</th>\n",
       "      <td>1397</td>\n",
       "      <td>[125, 125, 125, 125, 125, 125, 125, 125, 125, ...</td>\n",
       "      <td>0</td>\n",
       "      <td>0</td>\n",
       "    </tr>\n",
       "    <tr>\n",
       "      <th>3</th>\n",
       "      <td>14814</td>\n",
       "      <td>[prepare_kernel_cred, commit_cred, prepare_ker...</td>\n",
       "      <td>1</td>\n",
       "      <td>0</td>\n",
       "    </tr>\n",
       "    <tr>\n",
       "      <th>4</th>\n",
       "      <td>15023</td>\n",
       "      <td>[prepare_kernel_cred, commit_cred, prepare_ker...</td>\n",
       "      <td>1</td>\n",
       "      <td>0</td>\n",
       "    </tr>\n",
       "    <tr>\n",
       "      <th>...</th>\n",
       "      <td>...</td>\n",
       "      <td>...</td>\n",
       "      <td>...</td>\n",
       "      <td>...</td>\n",
       "    </tr>\n",
       "    <tr>\n",
       "      <th>96</th>\n",
       "      <td>9083</td>\n",
       "      <td>[3, 3, 3, 3, 3, 3, 3, 3, 3, 203, 203, 12, 12, ...</td>\n",
       "      <td>5</td>\n",
       "      <td>0</td>\n",
       "    </tr>\n",
       "    <tr>\n",
       "      <th>97</th>\n",
       "      <td>926</td>\n",
       "      <td>[13, 13, 14, 9, 14, 56, 11, 14, 61, 13, 13, 14...</td>\n",
       "      <td>5</td>\n",
       "      <td>0</td>\n",
       "    </tr>\n",
       "    <tr>\n",
       "      <th>98</th>\n",
       "      <td>9479</td>\n",
       "      <td>[102, 104, 135, 10, 257, 41, 40, 3, 41, 102, 4...</td>\n",
       "      <td>10</td>\n",
       "      <td>0</td>\n",
       "    </tr>\n",
       "    <tr>\n",
       "      <th>99</th>\n",
       "      <td>9542</td>\n",
       "      <td>[102, 104, 135, 9, 41, 44, 44, 102, 102, 104, ...</td>\n",
       "      <td>10</td>\n",
       "      <td>0</td>\n",
       "    </tr>\n",
       "    <tr>\n",
       "      <th>100</th>\n",
       "      <td>9545</td>\n",
       "      <td>[102, 104, 9, 41, 87, 77, 102, 104, 9, 41, 87,...</td>\n",
       "      <td>10</td>\n",
       "      <td>0</td>\n",
       "    </tr>\n",
       "  </tbody>\n",
       "</table>\n",
       "<p>101 rows × 4 columns</p>\n",
       "</div>"
      ],
      "text/plain": [
       "       EID                                       SYSCALL_PATH  km_label  \\\n",
       "0    10613  [102, 1, 102, 1, 102, 1, 12, 12, 1, 59, 102, 1...        10   \n",
       "1       12  [101, 101, 101, 101, 101, 101, 101, 101, 101, ...        11   \n",
       "2     1397  [125, 125, 125, 125, 125, 125, 125, 125, 125, ...         0   \n",
       "3    14814  [prepare_kernel_cred, commit_cred, prepare_ker...         1   \n",
       "4    15023  [prepare_kernel_cred, commit_cred, prepare_ker...         1   \n",
       "..     ...                                                ...       ...   \n",
       "96    9083  [3, 3, 3, 3, 3, 3, 3, 3, 3, 203, 203, 12, 12, ...         5   \n",
       "97     926  [13, 13, 14, 9, 14, 56, 11, 14, 61, 13, 13, 14...         5   \n",
       "98    9479  [102, 104, 135, 10, 257, 41, 40, 3, 41, 102, 4...        10   \n",
       "99    9542  [102, 104, 135, 9, 41, 44, 44, 102, 102, 104, ...        10   \n",
       "100   9545  [102, 104, 9, 41, 87, 77, 102, 104, 9, 41, 87,...        10   \n",
       "\n",
       "     dbscan_label  \n",
       "0               0  \n",
       "1               0  \n",
       "2               0  \n",
       "3               0  \n",
       "4               0  \n",
       "..            ...  \n",
       "96              0  \n",
       "97              0  \n",
       "98              0  \n",
       "99              0  \n",
       "100             0  \n",
       "\n",
       "[101 rows x 4 columns]"
      ]
     },
     "execution_count": 220,
     "metadata": {},
     "output_type": "execute_result"
    }
   ],
   "source": [
    "km_label = unsupervised_learning(exploit_embedding_list)\n",
    "exploit['km_label'] = km_label\n",
    "exploit"
   ]
  },
  {
   "cell_type": "code",
   "execution_count": 242,
   "id": "26838aa3",
   "metadata": {},
   "outputs": [
    {
     "data": {
      "image/png": "[encoded data removed]",
      "text/plain": [
       "<Figure size 900x1600 with 8 Axes>"
      ]
     },
     "metadata": {},
     "output_type": "display_data"
    }
   ],
   "source": [
    "fig, ax = plt.subplots(figsize=(9,16), nrows=4, ncols=2)\n",
    "j=0\n",
    "for i in range(4,12):\n",
    "    km_label = unsupervised_learning(exploit_embedding_list,i)\n",
    "    # TruncatedSVD 변환 데이터를 왼쪽에, PCA변환 데이터를 오른쪽에 표현 \n",
    "    ax[i%4][j].scatter(x=exploit_tsvd[:,0], y= exploit_tsvd[:,1], c= km_label, cmap='Paired')\n",
    "    ax[i%4][j].set_title(f'K={i}')\n",
    "    if i == 7:\n",
    "        j = 1"
   ]
  },
  {
   "cell_type": "markdown",
   "id": "2b245aa9",
   "metadata": {},
   "source": [
    "### DBSCAN을 사용한 Clustering"
   ]
  },
  {
   "cell_type": "code",
   "execution_count": 176,
   "id": "4995a752",
   "metadata": {},
   "outputs": [
    {
     "name": "stdout",
     "output_type": "stream",
     "text": [
      "1.7473682\n"
     ]
    },
    {
     "data": {
      "text/plain": [
       "<Figure size 500x500 with 0 Axes>"
      ]
     },
     "metadata": {},
     "output_type": "display_data"
    },
    {
     "data": {
      "image/png": "[encoded data removed]",
      "text/plain": [
       "<Figure size 600x600 with 1 Axes>"
      ]
     },
     "metadata": {},
     "output_type": "display_data"
    }
   ],
   "source": [
    "# EPS(Epsilon) 값을 결정하기 위한 가장 가까운 neighbor 거리 계산\n",
    "\n",
    "from sklearn.neighbors import NearestNeighbors\n",
    "nearest_neighbors = NearestNeighbors(n_neighbors=11)\n",
    "neighbors = nearest_neighbors.fit(exploit_embedding_list)\n",
    "distances, indices = neighbors.kneighbors(exploit_embedding_list)\n",
    "distances = np.sort(distances[:,10], axis=0)\n",
    "\n",
    "#elbow point를 detect하는 API\n",
    "from kneed import KneeLocator\n",
    "i = np.arange(len(distances))\n",
    "knee = KneeLocator(i, distances, S=1, curve='convex', direction='increasing', interp_method='polynomial')\n",
    "fig = plt.figure(figsize=(5, 5))\n",
    "plt.style.use(\"seaborn-paper\")\n",
    "knee.plot_knee()\n",
    "plt.title(\"Knee Point\")\n",
    "plt.xlabel(\"Points\")\n",
    "plt.ylabel(\"Distance\")\n",
    "\n",
    "print(distances[knee.knee])"
   ]
  },
  {
   "cell_type": "code",
   "execution_count": 177,
   "id": "40ad5f99",
   "metadata": {},
   "outputs": [
    {
     "name": "stdout",
     "output_type": "stream",
     "text": [
      "101 300\n"
     ]
    }
   ],
   "source": [
    "print(len(exploit_embedding_list), len(exploit_embedding_list[0]))"
   ]
  },
  {
   "cell_type": "code",
   "execution_count": 181,
   "id": "00058dc1",
   "metadata": {},
   "outputs": [
    {
     "data": {
      "text/html": [
       "<div>\n",
       "<style scoped>\n",
       "    .dataframe tbody tr th:only-of-type {\n",
       "        vertical-align: middle;\n",
       "    }\n",
       "\n",
       "    .dataframe tbody tr th {\n",
       "        vertical-align: top;\n",
       "    }\n",
       "\n",
       "    .dataframe thead th {\n",
       "        text-align: right;\n",
       "    }\n",
       "</style>\n",
       "<table border=\"1\" class=\"dataframe\">\n",
       "  <thead>\n",
       "    <tr style=\"text-align: right;\">\n",
       "      <th></th>\n",
       "      <th>EID</th>\n",
       "      <th>SYSCALL_PATH</th>\n",
       "      <th>km_label</th>\n",
       "      <th>dbscan_label</th>\n",
       "    </tr>\n",
       "  </thead>\n",
       "  <tbody>\n",
       "    <tr>\n",
       "      <th>0</th>\n",
       "      <td>10613</td>\n",
       "      <td>[102, 1, 102, 1, 102, 1, 12, 12, 1, 59, 102, 1...</td>\n",
       "      <td>8</td>\n",
       "      <td>0</td>\n",
       "    </tr>\n",
       "    <tr>\n",
       "      <th>1</th>\n",
       "      <td>12</td>\n",
       "      <td>[101, 101, 101, 101, 101, 101, 101, 101, 101, ...</td>\n",
       "      <td>9</td>\n",
       "      <td>0</td>\n",
       "    </tr>\n",
       "    <tr>\n",
       "      <th>2</th>\n",
       "      <td>1397</td>\n",
       "      <td>[125, 125, 125, 125, 125, 125, 125, 125, 125, ...</td>\n",
       "      <td>11</td>\n",
       "      <td>0</td>\n",
       "    </tr>\n",
       "    <tr>\n",
       "      <th>3</th>\n",
       "      <td>14814</td>\n",
       "      <td>[prepare_kernel_cred, commit_cred, prepare_ker...</td>\n",
       "      <td>0</td>\n",
       "      <td>0</td>\n",
       "    </tr>\n",
       "    <tr>\n",
       "      <th>4</th>\n",
       "      <td>15023</td>\n",
       "      <td>[prepare_kernel_cred, commit_cred, prepare_ker...</td>\n",
       "      <td>0</td>\n",
       "      <td>0</td>\n",
       "    </tr>\n",
       "    <tr>\n",
       "      <th>...</th>\n",
       "      <td>...</td>\n",
       "      <td>...</td>\n",
       "      <td>...</td>\n",
       "      <td>...</td>\n",
       "    </tr>\n",
       "    <tr>\n",
       "      <th>96</th>\n",
       "      <td>9083</td>\n",
       "      <td>[3, 3, 3, 3, 3, 3, 3, 3, 3, 203, 203, 12, 12, ...</td>\n",
       "      <td>3</td>\n",
       "      <td>0</td>\n",
       "    </tr>\n",
       "    <tr>\n",
       "      <th>97</th>\n",
       "      <td>926</td>\n",
       "      <td>[13, 13, 14, 9, 14, 56, 11, 14, 61, 13, 13, 14...</td>\n",
       "      <td>7</td>\n",
       "      <td>0</td>\n",
       "    </tr>\n",
       "    <tr>\n",
       "      <th>98</th>\n",
       "      <td>9479</td>\n",
       "      <td>[102, 104, 135, 10, 257, 41, 40, 3, 41, 102, 4...</td>\n",
       "      <td>8</td>\n",
       "      <td>0</td>\n",
       "    </tr>\n",
       "    <tr>\n",
       "      <th>99</th>\n",
       "      <td>9542</td>\n",
       "      <td>[102, 104, 135, 9, 41, 44, 44, 102, 102, 104, ...</td>\n",
       "      <td>8</td>\n",
       "      <td>0</td>\n",
       "    </tr>\n",
       "    <tr>\n",
       "      <th>100</th>\n",
       "      <td>9545</td>\n",
       "      <td>[102, 104, 9, 41, 87, 77, 102, 104, 9, 41, 87,...</td>\n",
       "      <td>8</td>\n",
       "      <td>0</td>\n",
       "    </tr>\n",
       "  </tbody>\n",
       "</table>\n",
       "<p>101 rows × 4 columns</p>\n",
       "</div>"
      ],
      "text/plain": [
       "       EID                                       SYSCALL_PATH  km_label  \\\n",
       "0    10613  [102, 1, 102, 1, 102, 1, 12, 12, 1, 59, 102, 1...         8   \n",
       "1       12  [101, 101, 101, 101, 101, 101, 101, 101, 101, ...         9   \n",
       "2     1397  [125, 125, 125, 125, 125, 125, 125, 125, 125, ...        11   \n",
       "3    14814  [prepare_kernel_cred, commit_cred, prepare_ker...         0   \n",
       "4    15023  [prepare_kernel_cred, commit_cred, prepare_ker...         0   \n",
       "..     ...                                                ...       ...   \n",
       "96    9083  [3, 3, 3, 3, 3, 3, 3, 3, 3, 203, 203, 12, 12, ...         3   \n",
       "97     926  [13, 13, 14, 9, 14, 56, 11, 14, 61, 13, 13, 14...         7   \n",
       "98    9479  [102, 104, 135, 10, 257, 41, 40, 3, 41, 102, 4...         8   \n",
       "99    9542  [102, 104, 135, 9, 41, 44, 44, 102, 102, 104, ...         8   \n",
       "100   9545  [102, 104, 9, 41, 87, 77, 102, 104, 9, 41, 87,...         8   \n",
       "\n",
       "     dbscan_label  \n",
       "0               0  \n",
       "1               0  \n",
       "2               0  \n",
       "3               0  \n",
       "4               0  \n",
       "..            ...  \n",
       "96              0  \n",
       "97              0  \n",
       "98              0  \n",
       "99              0  \n",
       "100             0  \n",
       "\n",
       "[101 rows x 4 columns]"
      ]
     },
     "execution_count": 181,
     "metadata": {},
     "output_type": "execute_result"
    }
   ],
   "source": [
    "from sklearn.cluster import DBSCAN\n",
    "dbscan_model = DBSCAN(eps=0.5,min_samples=10, metric = \"cosine\")\n",
    "dbscan_labels = dbscan_model.fit_predict(np.array(exploit_embedding_list))\n",
    "exploit['dbscan_label'] = dbscan_labels\n",
    "exploit"
   ]
  },
  {
   "cell_type": "code",
   "execution_count": 221,
   "id": "ba231937",
   "metadata": {},
   "outputs": [
    {
     "data": {
      "text/plain": [
       "Text(0.5, 1.0, 'PCA Transformed')"
      ]
     },
     "execution_count": 221,
     "metadata": {},
     "output_type": "execute_result"
    },
    {
     "data": {
      "image/png": "[encoded data removed]",
      "text/plain": [
       "<Figure size 900x400 with 2 Axes>"
      ]
     },
     "metadata": {},
     "output_type": "display_data"
    },
    {
     "data": {
      "image/png": "[encoded data removed]",
      "text/plain": [
       "<Figure size 900x400 with 2 Axes>"
      ]
     },
     "metadata": {},
     "output_type": "display_data"
    }
   ],
   "source": [
    "from sklearn.preprocessing import StandardScaler\n",
    "from sklearn.decomposition import TruncatedSVD, PCA\n",
    "\n",
    "\n",
    "# 특이값 분해\n",
    "tsvd = TruncatedSVD(n_components=2)\n",
    "tsvd.fit(exploit_embedding_list)\n",
    "scaler = StandardScaler() # exploit 데이터를 StandardScaler로 변환\n",
    "exploit_tsvd = scaler.fit_transform(exploit_embedding_list)\n",
    "\n",
    "# 스케일링된 데이터를 기반으로 PCA 변환 수행 \n",
    "pca = PCA(n_components=18)\n",
    "pca.fit(exploit_embedding_list)\n",
    "exploit_pca = pca.transform(exploit_embedding_list)\n",
    "\n",
    "# TruncatedSVD 변환 데이터를 왼쪽에, PCA변환 데이터를 오른쪽에 표현 \n",
    "fig, (ax1, ax2) = plt.subplots(figsize=(9,4), ncols=2)\n",
    "ax1.scatter(x=exploit_tsvd[:,0], y= exploit_tsvd[:,1], c= exploit.km_label, cmap='Spectral')\n",
    "ax2.scatter(x=exploit_pca[:,0], y= exploit_pca[:,1], c= exploit.km_label, cmap='Spectral')\n",
    "ax1.set_title('Truncated SVD Transformed')\n",
    "ax2.set_title('PCA Transformed')\n",
    "\n",
    "fig, (ax1, ax2) = plt.subplots(figsize=(9,4), ncols=2)\n",
    "ax1.scatter(x=exploit_tsvd[:,0], y= exploit_tsvd[:,1], c= exploit.dbscan_label, cmap=\"rainbow\")\n",
    "ax2.scatter(x=exploit_pca[:,0], y= exploit_pca[:,1], c= exploit.dbscan_label, cmap=\"rainbow\")\n",
    "ax1.set_title('Truncated SVD Transformed')\n",
    "ax2.set_title('PCA Transformed')"
   ]
  },
  {
   "cell_type": "code",
   "execution_count": 222,
   "id": "d4b87f92",
   "metadata": {},
   "outputs": [
    {
     "data": {
      "application/vnd.plotly.v1+json": {
       "config": {
        "plotlyServerURL": "https://plot.ly"
       },
       "data": [
        {
         "hovertemplate": "PC 1=%{x}<br>PC 2=%{y}<br>PC 3=%{z}<br>color=%{marker.color}<extra></extra>",
         "legendgroup": "",
         "marker": {
          "color": [
           10,
           11,
           0,
           1,
           1,
           5,
           1,
           1,
           1,
           1,
           1,
           0,
           5,
           4,
           11,
           1,
           3,
           11,
           3,
           11,
           3,
           7,
           7,
           1,
           7,
           10,
           4,
           0,
           5,
           11,
           10,
           3,
           10,
           6,
           6,
           11,
           4,
           5,
           9,
           10,
           10,
           4,
           4,
           11,
           10,
           5,
           7,
           11,
           5,
           5,
           1,
           3,
           3,
           0,
           11,
           3,
           11,
           12,
           12,
           1,
           4,
           5,
           1,
           5,
           0,
           0,
           0,
           4,
           1,
           1,
           4,
           5,
           2,
           4,
           1,
           4,
           1,
           11,
           2,
           4,
           3,
           1,
           1,
           1,
           11,
           8,
           3,
           3,
           10,
           10,
           1,
           3,
           3,
           7,
           7,
           3,
           5,
           5,
           10,
           10,
           10
          ],
          "coloraxis": "coloraxis",
          "symbol": "circle"
         },
         "mode": "markers",
         "name": "",
         "scene": "scene",
         "showlegend": false,
         "type": "scatter3d",
         "x": [
          -0.4095828608028429,
          0.49073067127858255,
          0.08087087467294733,
          -0.674059157101209,
          -0.757798865386676,
          0.16096857271727563,
          -0.5526951652079699,
          -0.6930872216985057,
          -0.6921967992836371,
          -0.7244805341698367,
          -0.5886399732459955,
          -0.46780289538344505,
          -0.33143693581375017,
          -0.2530463140035601,
          0.3377528866575648,
          -0.2294862608056357,
          0.475851047096819,
          0.3851072684651588,
          0.04786863128421265,
          0.28567116176004365,
          0.2534729083401184,
          1.2451511640843382,
          1.24622939154003,
          -0.5098000806051186,
          0.6340926084668429,
          -0.641683709954649,
          -0.2873247643776332,
          0.5610630904895055,
          0.14689260752978883,
          0.8956318810688045,
          -0.7615144495006753,
          0.15018535321654505,
          -0.3298428223687836,
          0.24403449878750802,
          0.007594474467450615,
          -0.025650895691563903,
          -0.18456600748242794,
          -0.3889907460477721,
          1.1154075145319293,
          0.09453415205198389,
          -0.17110259259820337,
          -0.49592371971815963,
          -0.5364769137979469,
          0.5424282673826062,
          -0.6050224978778604,
          -0.17026987704036348,
          0.7819856057736395,
          0.4963909677785254,
          0.09467893609550067,
          -0.19340455824976674,
          -0.12260858778045779,
          0.0078010028389345135,
          0.5389217463308286,
          0.40811347459614555,
          0.11766456798817455,
          0.4086302298513226,
          0.1344890640279358,
          0.7213897104205558,
          0.2965299334389179,
          -0.7170836928355352,
          -0.25522232868371675,
          -0.21282776364130807,
          -0.22292852362319746,
          -0.14318155403500396,
          0.35144989756851625,
          -0.4198446013219385,
          -0.1043834961174936,
          -0.2566751382096993,
          -0.03855923717799366,
          -0.4325766951422655,
          -0.2191290551739527,
          -0.09660181375842992,
          2.747941451740441,
          -0.3114703972111532,
          -0.7169169208321439,
          -0.278873832222732,
          -0.48188641494065737,
          0.11658442574175813,
          3.352752100189056,
          -0.38357384016065577,
          -0.2302489039039162,
          -0.4277440200953491,
          -0.5483540276147092,
          -0.3122526522355731,
          0.7879462765227915,
          1.4474112137862392,
          -0.25265592854438895,
          -0.027097108715414982,
          -0.6739144923618376,
          -0.5399542769083,
          -0.5976188914193769,
          -0.22441668901503628,
          -0.3542986235050862,
          0.8658292429441322,
          0.6054970299347222,
          0.09155764568838935,
          -0.11452298347610079,
          -0.11188556419004557,
          -0.8713300388820712,
          -0.721816914364731,
          -0.6767619228323211
         ],
         "y": [
          -0.3828088429042883,
          -0.5103044972577059,
          0.6904836944609555,
          0.3616054208230683,
          0.41337100407067745,
          0.4129546564910731,
          0.42306563276093817,
          0.4049345023282514,
          0.3807508577378795,
          0.4631532737327048,
          0.17271037848120518,
          0.7521680840095682,
          0.11474756278125876,
          0.26297930897014515,
          -0.6275770264457131,
          -0.011065210177234016,
          -0.718968031317293,
          -1.0133944970942883,
          -0.48276863422288013,
          -0.4049415267785538,
          -0.5634287521474246,
          -1.0976827105173232,
          -1.0974888621004182,
          0.32798669919162,
          -0.7099424040708436,
          -0.048985911898575686,
          0.19272675824371796,
          1.1697895629266806,
          -0.10747568353842245,
          -0.38964356276986395,
          -0.0389598438983543,
          -0.5037568243189995,
          0.02855025534151022,
          0.5345576667057588,
          0.5067022421553663,
          -0.6093396722611981,
          0.6730294460007541,
          -0.19995145109701565,
          -1.1210102685967918,
          -0.48328962600238246,
          -0.3877472824936006,
          0.4473102510587273,
          0.3388935140559152,
          -0.7447409632396261,
          0.11665125689001915,
          -0.3706500222450807,
          -0.8724315436860268,
          -0.39028030630550475,
          -0.3064787163872901,
          0.006426399445200073,
          -0.09561947482194687,
          -0.2681399155549868,
          -0.7150935362359616,
          0.6823892114566295,
          -0.8391626044886987,
          -0.6841771135711839,
          -0.6054136546266022,
          -0.04587151262940392,
          0.09570411889923482,
          0.3828613992554268,
          0.13906662275556475,
          -0.098627731560787,
          0.005218887043651994,
          -0.10114871024339134,
          1.3219206010670306,
          1.1353384091577672,
          0.5143370057797948,
          0.3019197394904828,
          -0.054538868339935744,
          0.13474660068291525,
          0.22430269118711788,
          0.08142851818810373,
          1.5087641921497543,
          0.16866036888696134,
          0.38601072870758535,
          0.2082084683392246,
          0.18308512313257783,
          -0.6771961187678565,
          1.8604424829419022,
          0.6951416534605064,
          -0.2916011524754997,
          0.4151864635618783,
          0.311295931071589,
          0.10349305927893285,
          -0.4617865211140879,
          2.0721674444559723,
          -0.2637267047477144,
          -0.15920364619580477,
          -0.25485392360150844,
          -0.18173616372878568,
          -0.033353047946136354,
          -0.4585239958819484,
          -0.12946475544765615,
          -0.9656557949877735,
          -0.7375909192095507,
          -0.43500330787114283,
          0.16391956901510057,
          -0.27431663661425876,
          0.3326391677381778,
          0.3583165149293149,
          0.044805083139129044
         ],
         "z": [
          0.5920752869840061,
          -0.35403225393828724,
          0.26855901020883566,
          -0.7130962664160202,
          -0.917240351504097,
          0.3920523689832175,
          -0.7143404640977871,
          -0.8285718898556422,
          -0.8456121571066808,
          -0.7120027447434766,
          -0.1144300417077052,
          0.14870441339893475,
          -0.1322675555632642,
          0.09505181112960456,
          0.19685326249879181,
          -0.28517202973065525,
          0.09297716644581126,
          0.3924795987856563,
          0.008611353570175211,
          -0.22200610855336567,
          0.017554001896568194,
          -0.12171880785500651,
          -0.11997906503801711,
          -0.7806437647175531,
          0.02059584907342261,
          1.0711509544242737,
          0.3867823497976939,
          1.0869748548581133,
          -0.35402805476555743,
          -0.4112063777561895,
          0.9744996102460134,
          0.059337441588852395,
          1.2744952911074534,
          -0.21604392969616468,
          -0.392901050190668,
          0.1754936526169119,
          0.18907996067596466,
          0.2622874361057985,
          -0.33106540306217547,
          0.3474348433534501,
          0.5914764202909787,
          -0.009220920785851542,
          -0.12684954947700308,
          -0.19277923693475368,
          0.8707040746777233,
          0.30232285484293436,
          -0.20783465983089733,
          0.15467192551352582,
          -0.07107485680340275,
          -0.04824001358708985,
          -0.6835386701498348,
          0.237396268861999,
          0.3056651921841547,
          0.3488223031128059,
          0.2951042502900821,
          0.19738559772687583,
          0.09343326526328032,
          0.015234508162121619,
          -0.24869463134272252,
          -0.8794560362410786,
          -0.37170066839067434,
          -0.03939119984786058,
          -0.4349901167361707,
          0.12365157254626823,
          0.673054054726609,
          0.17658410935908506,
          0.32404981572812025,
          -0.08999871183655321,
          -0.3853920375618225,
          -0.5486225571537133,
          -0.18343677303356634,
          0.001851903283504518,
          -0.3302214934285995,
          0.41192091191589825,
          -0.8928405424457716,
          -0.3397910189788919,
          -0.901238912246107,
          0.1704321277153981,
          -0.4797716519887457,
          -0.28346604845940365,
          -0.1679003753035924,
          -0.35025038338620434,
          -0.6004639279812529,
          -0.4103611925327389,
          -0.2340598746494107,
          1.167657443255106,
          -0.1565300538398209,
          -0.1885323078211388,
          0.7520863324177599,
          0.3534387076460211,
          -0.3795424728844854,
          0.6416458453931934,
          -0.0545486025920634,
          -0.12677827248506499,
          -0.21314555523431603,
          0.01730274194526986,
          0.214670608502003,
          0.16329408107357016,
          0.7511298739977543,
          0.9785660489779866,
          0.8104182851093429
         ]
        }
       ],
       "layout": {
        "coloraxis": {
         "colorbar": {
          "title": {
           "text": "color"
          }
         },
         "colorscale": [
          [
           0,
           "#0d0887"
          ],
          [
           0.1111111111111111,
           "#46039f"
          ],
          [
           0.2222222222222222,
           "#7201a8"
          ],
          [
           0.3333333333333333,
           "#9c179e"
          ],
          [
           0.4444444444444444,
           "#bd3786"
          ],
          [
           0.5555555555555556,
           "#d8576b"
          ],
          [
           0.6666666666666666,
           "#ed7953"
          ],
          [
           0.7777777777777778,
           "#fb9f3a"
          ],
          [
           0.8888888888888888,
           "#fdca26"
          ],
          [
           1,
           "#f0f921"
          ]
         ]
        },
        "legend": {
         "tracegroupgap": 0
        },
        "scene": {
         "domain": {
          "x": [
           0,
           1
          ],
          "y": [
           0,
           1
          ]
         },
         "xaxis": {
          "title": {
           "text": "PC 1"
          }
         },
         "yaxis": {
          "title": {
           "text": "PC 2"
          }
         },
         "zaxis": {
          "title": {
           "text": "PC 3"
          }
         }
        },
        "template": {
         "data": {
          "bar": [
           {
            "error_x": {
             "color": "#2a3f5f"
            },
            "error_y": {
             "color": "#2a3f5f"
            },
            "marker": {
             "line": {
              "color": "#E5ECF6",
              "width": 0.5
             },
             "pattern": {
              "fillmode": "overlay",
              "size": 10,
              "solidity": 0.2
             }
            },
            "type": "bar"
           }
          ],
          "barpolar": [
           {
            "marker": {
             "line": {
              "color": "#E5ECF6",
              "width": 0.5
             },
             "pattern": {
              "fillmode": "overlay",
              "size": 10,
              "solidity": 0.2
             }
            },
            "type": "barpolar"
           }
          ],
          "carpet": [
           {
            "aaxis": {
             "endlinecolor": "#2a3f5f",
             "gridcolor": "white",
             "linecolor": "white",
             "minorgridcolor": "white",
             "startlinecolor": "#2a3f5f"
            },
            "baxis": {
             "endlinecolor": "#2a3f5f",
             "gridcolor": "white",
             "linecolor": "white",
             "minorgridcolor": "white",
             "startlinecolor": "#2a3f5f"
            },
            "type": "carpet"
           }
          ],
          "choropleth": [
           {
            "colorbar": {
             "outlinewidth": 0,
             "ticks": ""
            },
            "type": "choropleth"
           }
          ],
          "contour": [
           {
            "colorbar": {
             "outlinewidth": 0,
             "ticks": ""
            },
            "colorscale": [
             [
              0,
              "#0d0887"
             ],
             [
              0.1111111111111111,
              "#46039f"
             ],
             [
              0.2222222222222222,
              "#7201a8"
             ],
             [
              0.3333333333333333,
              "#9c179e"
             ],
             [
              0.4444444444444444,
              "#bd3786"
             ],
             [
              0.5555555555555556,
              "#d8576b"
             ],
             [
              0.6666666666666666,
              "#ed7953"
             ],
             [
              0.7777777777777778,
              "#fb9f3a"
             ],
             [
              0.8888888888888888,
              "#fdca26"
             ],
             [
              1,
              "#f0f921"
             ]
            ],
            "type": "contour"
           }
          ],
          "contourcarpet": [
           {
            "colorbar": {
             "outlinewidth": 0,
             "ticks": ""
            },
            "type": "contourcarpet"
           }
          ],
          "heatmap": [
           {
            "colorbar": {
             "outlinewidth": 0,
             "ticks": ""
            },
            "colorscale": [
             [
              0,
              "#0d0887"
             ],
             [
              0.1111111111111111,
              "#46039f"
             ],
             [
              0.2222222222222222,
              "#7201a8"
             ],
             [
              0.3333333333333333,
              "#9c179e"
             ],
             [
              0.4444444444444444,
              "#bd3786"
             ],
             [
              0.5555555555555556,
              "#d8576b"
             ],
             [
              0.6666666666666666,
              "#ed7953"
             ],
             [
              0.7777777777777778,
              "#fb9f3a"
             ],
             [
              0.8888888888888888,
              "#fdca26"
             ],
             [
              1,
              "#f0f921"
             ]
            ],
            "type": "heatmap"
           }
          ],
          "heatmapgl": [
           {
            "colorbar": {
             "outlinewidth": 0,
             "ticks": ""
            },
            "colorscale": [
             [
              0,
              "#0d0887"
             ],
             [
              0.1111111111111111,
              "#46039f"
             ],
             [
              0.2222222222222222,
              "#7201a8"
             ],
             [
              0.3333333333333333,
              "#9c179e"
             ],
             [
              0.4444444444444444,
              "#bd3786"
             ],
             [
              0.5555555555555556,
              "#d8576b"
             ],
             [
              0.6666666666666666,
              "#ed7953"
             ],
             [
              0.7777777777777778,
              "#fb9f3a"
             ],
             [
              0.8888888888888888,
              "#fdca26"
             ],
             [
              1,
              "#f0f921"
             ]
            ],
            "type": "heatmapgl"
           }
          ],
          "histogram": [
           {
            "marker": {
             "pattern": {
              "fillmode": "overlay",
              "size": 10,
              "solidity": 0.2
             }
            },
            "type": "histogram"
           }
          ],
          "histogram2d": [
           {
            "colorbar": {
             "outlinewidth": 0,
             "ticks": ""
            },
            "colorscale": [
             [
              0,
              "#0d0887"
             ],
             [
              0.1111111111111111,
              "#46039f"
             ],
             [
              0.2222222222222222,
              "#7201a8"
             ],
             [
              0.3333333333333333,
              "#9c179e"
             ],
             [
              0.4444444444444444,
              "#bd3786"
             ],
             [
              0.5555555555555556,
              "#d8576b"
             ],
             [
              0.6666666666666666,
              "#ed7953"
             ],
             [
              0.7777777777777778,
              "#fb9f3a"
             ],
             [
              0.8888888888888888,
              "#fdca26"
             ],
             [
              1,
              "#f0f921"
             ]
            ],
            "type": "histogram2d"
           }
          ],
          "histogram2dcontour": [
           {
            "colorbar": {
             "outlinewidth": 0,
             "ticks": ""
            },
            "colorscale": [
             [
              0,
              "#0d0887"
             ],
             [
              0.1111111111111111,
              "#46039f"
             ],
             [
              0.2222222222222222,
              "#7201a8"
             ],
             [
              0.3333333333333333,
              "#9c179e"
             ],
             [
              0.4444444444444444,
              "#bd3786"
             ],
             [
              0.5555555555555556,
              "#d8576b"
             ],
             [
              0.6666666666666666,
              "#ed7953"
             ],
             [
              0.7777777777777778,
              "#fb9f3a"
             ],
             [
              0.8888888888888888,
              "#fdca26"
             ],
             [
              1,
              "#f0f921"
             ]
            ],
            "type": "histogram2dcontour"
           }
          ],
          "mesh3d": [
           {
            "colorbar": {
             "outlinewidth": 0,
             "ticks": ""
            },
            "type": "mesh3d"
           }
          ],
          "parcoords": [
           {
            "line": {
             "colorbar": {
              "outlinewidth": 0,
              "ticks": ""
             }
            },
            "type": "parcoords"
           }
          ],
          "pie": [
           {
            "automargin": true,
            "type": "pie"
           }
          ],
          "scatter": [
           {
            "marker": {
             "colorbar": {
              "outlinewidth": 0,
              "ticks": ""
             }
            },
            "type": "scatter"
           }
          ],
          "scatter3d": [
           {
            "line": {
             "colorbar": {
              "outlinewidth": 0,
              "ticks": ""
             }
            },
            "marker": {
             "colorbar": {
              "outlinewidth": 0,
              "ticks": ""
             }
            },
            "type": "scatter3d"
           }
          ],
          "scattercarpet": [
           {
            "marker": {
             "colorbar": {
              "outlinewidth": 0,
              "ticks": ""
             }
            },
            "type": "scattercarpet"
           }
          ],
          "scattergeo": [
           {
            "marker": {
             "colorbar": {
              "outlinewidth": 0,
              "ticks": ""
             }
            },
            "type": "scattergeo"
           }
          ],
          "scattergl": [
           {
            "marker": {
             "colorbar": {
              "outlinewidth": 0,
              "ticks": ""
             }
            },
            "type": "scattergl"
           }
          ],
          "scattermapbox": [
           {
            "marker": {
             "colorbar": {
              "outlinewidth": 0,
              "ticks": ""
             }
            },
            "type": "scattermapbox"
           }
          ],
          "scatterpolar": [
           {
            "marker": {
             "colorbar": {
              "outlinewidth": 0,
              "ticks": ""
             }
            },
            "type": "scatterpolar"
           }
          ],
          "scatterpolargl": [
           {
            "marker": {
             "colorbar": {
              "outlinewidth": 0,
              "ticks": ""
             }
            },
            "type": "scatterpolargl"
           }
          ],
          "scatterternary": [
           {
            "marker": {
             "colorbar": {
              "outlinewidth": 0,
              "ticks": ""
             }
            },
            "type": "scatterternary"
           }
          ],
          "surface": [
           {
            "colorbar": {
             "outlinewidth": 0,
             "ticks": ""
            },
            "colorscale": [
             [
              0,
              "#0d0887"
             ],
             [
              0.1111111111111111,
              "#46039f"
             ],
             [
              0.2222222222222222,
              "#7201a8"
             ],
             [
              0.3333333333333333,
              "#9c179e"
             ],
             [
              0.4444444444444444,
              "#bd3786"
             ],
             [
              0.5555555555555556,
              "#d8576b"
             ],
             [
              0.6666666666666666,
              "#ed7953"
             ],
             [
              0.7777777777777778,
              "#fb9f3a"
             ],
             [
              0.8888888888888888,
              "#fdca26"
             ],
             [
              1,
              "#f0f921"
             ]
            ],
            "type": "surface"
           }
          ],
          "table": [
           {
            "cells": {
             "fill": {
              "color": "#EBF0F8"
             },
             "line": {
              "color": "white"
             }
            },
            "header": {
             "fill": {
              "color": "#C8D4E3"
             },
             "line": {
              "color": "white"
             }
            },
            "type": "table"
           }
          ]
         },
         "layout": {
          "annotationdefaults": {
           "arrowcolor": "#2a3f5f",
           "arrowhead": 0,
           "arrowwidth": 1
          },
          "autotypenumbers": "strict",
          "coloraxis": {
           "colorbar": {
            "outlinewidth": 0,
            "ticks": ""
           }
          },
          "colorscale": {
           "diverging": [
            [
             0,
             "#8e0152"
            ],
            [
             0.1,
             "#c51b7d"
            ],
            [
             0.2,
             "#de77ae"
            ],
            [
             0.3,
             "#f1b6da"
            ],
            [
             0.4,
             "#fde0ef"
            ],
            [
             0.5,
             "#f7f7f7"
            ],
            [
             0.6,
             "#e6f5d0"
            ],
            [
             0.7,
             "#b8e186"
            ],
            [
             0.8,
             "#7fbc41"
            ],
            [
             0.9,
             "#4d9221"
            ],
            [
             1,
             "#276419"
            ]
           ],
           "sequential": [
            [
             0,
             "#0d0887"
            ],
            [
             0.1111111111111111,
             "#46039f"
            ],
            [
             0.2222222222222222,
             "#7201a8"
            ],
            [
             0.3333333333333333,
             "#9c179e"
            ],
            [
             0.4444444444444444,
             "#bd3786"
            ],
            [
             0.5555555555555556,
             "#d8576b"
            ],
            [
             0.6666666666666666,
             "#ed7953"
            ],
            [
             0.7777777777777778,
             "#fb9f3a"
            ],
            [
             0.8888888888888888,
             "#fdca26"
            ],
            [
             1,
             "#f0f921"
            ]
           ],
           "sequentialminus": [
            [
             0,
             "#0d0887"
            ],
            [
             0.1111111111111111,
             "#46039f"
            ],
            [
             0.2222222222222222,
             "#7201a8"
            ],
            [
             0.3333333333333333,
             "#9c179e"
            ],
            [
             0.4444444444444444,
             "#bd3786"
            ],
            [
             0.5555555555555556,
             "#d8576b"
            ],
            [
             0.6666666666666666,
             "#ed7953"
            ],
            [
             0.7777777777777778,
             "#fb9f3a"
            ],
            [
             0.8888888888888888,
             "#fdca26"
            ],
            [
             1,
             "#f0f921"
            ]
           ]
          },
          "colorway": [
           "#636efa",
           "#EF553B",
           "#00cc96",
           "#ab63fa",
           "#FFA15A",
           "#19d3f3",
           "#FF6692",
           "#B6E880",
           "#FF97FF",
           "#FECB52"
          ],
          "font": {
           "color": "#2a3f5f"
          },
          "geo": {
           "bgcolor": "white",
           "lakecolor": "white",
           "landcolor": "#E5ECF6",
           "showlakes": true,
           "showland": true,
           "subunitcolor": "white"
          },
          "hoverlabel": {
           "align": "left"
          },
          "hovermode": "closest",
          "mapbox": {
           "style": "light"
          },
          "paper_bgcolor": "white",
          "plot_bgcolor": "#E5ECF6",
          "polar": {
           "angularaxis": {
            "gridcolor": "white",
            "linecolor": "white",
            "ticks": ""
           },
           "bgcolor": "#E5ECF6",
           "radialaxis": {
            "gridcolor": "white",
            "linecolor": "white",
            "ticks": ""
           }
          },
          "scene": {
           "xaxis": {
            "backgroundcolor": "#E5ECF6",
            "gridcolor": "white",
            "gridwidth": 2,
            "linecolor": "white",
            "showbackground": true,
            "ticks": "",
            "zerolinecolor": "white"
           },
           "yaxis": {
            "backgroundcolor": "#E5ECF6",
            "gridcolor": "white",
            "gridwidth": 2,
            "linecolor": "white",
            "showbackground": true,
            "ticks": "",
            "zerolinecolor": "white"
           },
           "zaxis": {
            "backgroundcolor": "#E5ECF6",
            "gridcolor": "white",
            "gridwidth": 2,
            "linecolor": "white",
            "showbackground": true,
            "ticks": "",
            "zerolinecolor": "white"
           }
          },
          "shapedefaults": {
           "line": {
            "color": "#2a3f5f"
           }
          },
          "ternary": {
           "aaxis": {
            "gridcolor": "white",
            "linecolor": "white",
            "ticks": ""
           },
           "baxis": {
            "gridcolor": "white",
            "linecolor": "white",
            "ticks": ""
           },
           "bgcolor": "#E5ECF6",
           "caxis": {
            "gridcolor": "white",
            "linecolor": "white",
            "ticks": ""
           }
          },
          "title": {
           "x": 0.05
          },
          "xaxis": {
           "automargin": true,
           "gridcolor": "white",
           "linecolor": "white",
           "ticks": "",
           "title": {
            "standoff": 15
           },
           "zerolinecolor": "white",
           "zerolinewidth": 2
          },
          "yaxis": {
           "automargin": true,
           "gridcolor": "white",
           "linecolor": "white",
           "ticks": "",
           "title": {
            "standoff": 15
           },
           "zerolinecolor": "white",
           "zerolinewidth": 2
          }
         }
        },
        "title": {
         "text": "Total Explained Variance: 51.80%"
        }
       }
      },
      "text/html": [
       "<div>                            <div id=\"942bb7e2-0534-49a4-8e6c-26e500aed638\" class=\"plotly-graph-div\" style=\"height:525px; width:100%;\"></div>            <script type=\"text/javascript\">                require([\"plotly\"], function(Plotly) {                    window.PLOTLYENV=window.PLOTLYENV || {};                                    if (document.getElementById(\"942bb7e2-0534-49a4-8e6c-26e500aed638\")) {                    Plotly.newPlot(                        \"942bb7e2-0534-49a4-8e6c-26e500aed638\",                        [{\"hovertemplate\":\"PC 1=%{x}<br>PC 2=%{y}<br>PC 3=%{z}<br>color=%{marker.color}<extra></extra>\",\"legendgroup\":\"\",\"marker\":{\"color\":[10,11,0,1,1,5,1,1,1,1,1,0,5,4,11,1,3,11,3,11,3,7,7,1,7,10,4,0,5,11,10,3,10,6,6,11,4,5,9,10,10,4,4,11,10,5,7,11,5,5,1,3,3,0,11,3,11,12,12,1,4,5,1,5,0,0,0,4,1,1,4,5,2,4,1,4,1,11,2,4,3,1,1,1,11,8,3,3,10,10,1,3,3,7,7,3,5,5,10,10,10],\"coloraxis\":\"coloraxis\",\"symbol\":\"circle\"},\"mode\":\"markers\",\"name\":\"\",\"scene\":\"scene\",\"showlegend\":false,\"x\":[-0.4095828608028429,0.49073067127858255,0.08087087467294733,-0.674059157101209,-0.757798865386676,0.16096857271727563,-0.5526951652079699,-0.6930872216985057,-0.6921967992836371,-0.7244805341698367,-0.5886399732459955,-0.46780289538344505,-0.33143693581375017,-0.2530463140035601,0.3377528866575648,-0.2294862608056357,0.475851047096819,0.3851072684651588,0.04786863128421265,0.28567116176004365,0.2534729083401184,1.2451511640843382,1.24622939154003,-0.5098000806051186,0.6340926084668429,-0.641683709954649,-0.2873247643776332,0.5610630904895055,0.14689260752978883,0.8956318810688045,-0.7615144495006753,0.15018535321654505,-0.3298428223687836,0.24403449878750802,0.007594474467450615,-0.025650895691563903,-0.18456600748242794,-0.3889907460477721,1.1154075145319293,0.09453415205198389,-0.17110259259820337,-0.49592371971815963,-0.5364769137979469,0.5424282673826062,-0.6050224978778604,-0.17026987704036348,0.7819856057736395,0.4963909677785254,0.09467893609550067,-0.19340455824976674,-0.12260858778045779,0.0078010028389345135,0.5389217463308286,0.40811347459614555,0.11766456798817455,0.4086302298513226,0.1344890640279358,0.7213897104205558,0.2965299334389179,-0.7170836928355352,-0.25522232868371675,-0.21282776364130807,-0.22292852362319746,-0.14318155403500396,0.35144989756851625,-0.4198446013219385,-0.1043834961174936,-0.2566751382096993,-0.03855923717799366,-0.4325766951422655,-0.2191290551739527,-0.09660181375842992,2.747941451740441,-0.3114703972111532,-0.7169169208321439,-0.278873832222732,-0.48188641494065737,0.11658442574175813,3.352752100189056,-0.38357384016065577,-0.2302489039039162,-0.4277440200953491,-0.5483540276147092,-0.3122526522355731,0.7879462765227915,1.4474112137862392,-0.25265592854438895,-0.027097108715414982,-0.6739144923618376,-0.5399542769083,-0.5976188914193769,-0.22441668901503628,-0.3542986235050862,0.8658292429441322,0.6054970299347222,0.09155764568838935,-0.11452298347610079,-0.11188556419004557,-0.8713300388820712,-0.721816914364731,-0.6767619228323211],\"y\":[-0.3828088429042883,-0.5103044972577059,0.6904836944609555,0.3616054208230683,0.41337100407067745,0.4129546564910731,0.42306563276093817,0.4049345023282514,0.3807508577378795,0.4631532737327048,0.17271037848120518,0.7521680840095682,0.11474756278125876,0.26297930897014515,-0.6275770264457131,-0.011065210177234016,-0.718968031317293,-1.0133944970942883,-0.48276863422288013,-0.4049415267785538,-0.5634287521474246,-1.0976827105173232,-1.0974888621004182,0.32798669919162,-0.7099424040708436,-0.048985911898575686,0.19272675824371796,1.1697895629266806,-0.10747568353842245,-0.38964356276986395,-0.0389598438983543,-0.5037568243189995,0.02855025534151022,0.5345576667057588,0.5067022421553663,-0.6093396722611981,0.6730294460007541,-0.19995145109701565,-1.1210102685967918,-0.48328962600238246,-0.3877472824936006,0.4473102510587273,0.3388935140559152,-0.7447409632396261,0.11665125689001915,-0.3706500222450807,-0.8724315436860268,-0.39028030630550475,-0.3064787163872901,0.006426399445200073,-0.09561947482194687,-0.2681399155549868,-0.7150935362359616,0.6823892114566295,-0.8391626044886987,-0.6841771135711839,-0.6054136546266022,-0.04587151262940392,0.09570411889923482,0.3828613992554268,0.13906662275556475,-0.098627731560787,0.005218887043651994,-0.10114871024339134,1.3219206010670306,1.1353384091577672,0.5143370057797948,0.3019197394904828,-0.054538868339935744,0.13474660068291525,0.22430269118711788,0.08142851818810373,1.5087641921497543,0.16866036888696134,0.38601072870758535,0.2082084683392246,0.18308512313257783,-0.6771961187678565,1.8604424829419022,0.6951416534605064,-0.2916011524754997,0.4151864635618783,0.311295931071589,0.10349305927893285,-0.4617865211140879,2.0721674444559723,-0.2637267047477144,-0.15920364619580477,-0.25485392360150844,-0.18173616372878568,-0.033353047946136354,-0.4585239958819484,-0.12946475544765615,-0.9656557949877735,-0.7375909192095507,-0.43500330787114283,0.16391956901510057,-0.27431663661425876,0.3326391677381778,0.3583165149293149,0.044805083139129044],\"z\":[0.5920752869840061,-0.35403225393828724,0.26855901020883566,-0.7130962664160202,-0.917240351504097,0.3920523689832175,-0.7143404640977871,-0.8285718898556422,-0.8456121571066808,-0.7120027447434766,-0.1144300417077052,0.14870441339893475,-0.1322675555632642,0.09505181112960456,0.19685326249879181,-0.28517202973065525,0.09297716644581126,0.3924795987856563,0.008611353570175211,-0.22200610855336567,0.017554001896568194,-0.12171880785500651,-0.11997906503801711,-0.7806437647175531,0.02059584907342261,1.0711509544242737,0.3867823497976939,1.0869748548581133,-0.35402805476555743,-0.4112063777561895,0.9744996102460134,0.059337441588852395,1.2744952911074534,-0.21604392969616468,-0.392901050190668,0.1754936526169119,0.18907996067596466,0.2622874361057985,-0.33106540306217547,0.3474348433534501,0.5914764202909787,-0.009220920785851542,-0.12684954947700308,-0.19277923693475368,0.8707040746777233,0.30232285484293436,-0.20783465983089733,0.15467192551352582,-0.07107485680340275,-0.04824001358708985,-0.6835386701498348,0.237396268861999,0.3056651921841547,0.3488223031128059,0.2951042502900821,0.19738559772687583,0.09343326526328032,0.015234508162121619,-0.24869463134272252,-0.8794560362410786,-0.37170066839067434,-0.03939119984786058,-0.4349901167361707,0.12365157254626823,0.673054054726609,0.17658410935908506,0.32404981572812025,-0.08999871183655321,-0.3853920375618225,-0.5486225571537133,-0.18343677303356634,0.001851903283504518,-0.3302214934285995,0.41192091191589825,-0.8928405424457716,-0.3397910189788919,-0.901238912246107,0.1704321277153981,-0.4797716519887457,-0.28346604845940365,-0.1679003753035924,-0.35025038338620434,-0.6004639279812529,-0.4103611925327389,-0.2340598746494107,1.167657443255106,-0.1565300538398209,-0.1885323078211388,0.7520863324177599,0.3534387076460211,-0.3795424728844854,0.6416458453931934,-0.0545486025920634,-0.12677827248506499,-0.21314555523431603,0.01730274194526986,0.214670608502003,0.16329408107357016,0.7511298739977543,0.9785660489779866,0.8104182851093429],\"type\":\"scatter3d\"}],                        {\"template\":{\"data\":{\"bar\":[{\"error_x\":{\"color\":\"#2a3f5f\"},\"error_y\":{\"color\":\"#2a3f5f\"},\"marker\":{\"line\":{\"color\":\"#E5ECF6\",\"width\":0.5},\"pattern\":{\"fillmode\":\"overlay\",\"size\":10,\"solidity\":0.2}},\"type\":\"bar\"}],\"barpolar\":[{\"marker\":{\"line\":{\"color\":\"#E5ECF6\",\"width\":0.5},\"pattern\":{\"fillmode\":\"overlay\",\"size\":10,\"solidity\":0.2}},\"type\":\"barpolar\"}],\"carpet\":[{\"aaxis\":{\"endlinecolor\":\"#2a3f5f\",\"gridcolor\":\"white\",\"linecolor\":\"white\",\"minorgridcolor\":\"white\",\"startlinecolor\":\"#2a3f5f\"},\"baxis\":{\"endlinecolor\":\"#2a3f5f\",\"gridcolor\":\"white\",\"linecolor\":\"white\",\"minorgridcolor\":\"white\",\"startlinecolor\":\"#2a3f5f\"},\"type\":\"carpet\"}],\"choropleth\":[{\"colorbar\":{\"outlinewidth\":0,\"ticks\":\"\"},\"type\":\"choropleth\"}],\"contour\":[{\"colorbar\":{\"outlinewidth\":0,\"ticks\":\"\"},\"colorscale\":[[0.0,\"#0d0887\"],[0.1111111111111111,\"#46039f\"],[0.2222222222222222,\"#7201a8\"],[0.3333333333333333,\"#9c179e\"],[0.4444444444444444,\"#bd3786\"],[0.5555555555555556,\"#d8576b\"],[0.6666666666666666,\"#ed7953\"],[0.7777777777777778,\"#fb9f3a\"],[0.8888888888888888,\"#fdca26\"],[1.0,\"#f0f921\"]],\"type\":\"contour\"}],\"contourcarpet\":[{\"colorbar\":{\"outlinewidth\":0,\"ticks\":\"\"},\"type\":\"contourcarpet\"}],\"heatmap\":[{\"colorbar\":{\"outlinewidth\":0,\"ticks\":\"\"},\"colorscale\":[[0.0,\"#0d0887\"],[0.1111111111111111,\"#46039f\"],[0.2222222222222222,\"#7201a8\"],[0.3333333333333333,\"#9c179e\"],[0.4444444444444444,\"#bd3786\"],[0.5555555555555556,\"#d8576b\"],[0.6666666666666666,\"#ed7953\"],[0.7777777777777778,\"#fb9f3a\"],[0.8888888888888888,\"#fdca26\"],[1.0,\"#f0f921\"]],\"type\":\"heatmap\"}],\"heatmapgl\":[{\"colorbar\":{\"outlinewidth\":0,\"ticks\":\"\"},\"colorscale\":[[0.0,\"#0d0887\"],[0.1111111111111111,\"#46039f\"],[0.2222222222222222,\"#7201a8\"],[0.3333333333333333,\"#9c179e\"],[0.4444444444444444,\"#bd3786\"],[0.5555555555555556,\"#d8576b\"],[0.6666666666666666,\"#ed7953\"],[0.7777777777777778,\"#fb9f3a\"],[0.8888888888888888,\"#fdca26\"],[1.0,\"#f0f921\"]],\"type\":\"heatmapgl\"}],\"histogram\":[{\"marker\":{\"pattern\":{\"fillmode\":\"overlay\",\"size\":10,\"solidity\":0.2}},\"type\":\"histogram\"}],\"histogram2d\":[{\"colorbar\":{\"outlinewidth\":0,\"ticks\":\"\"},\"colorscale\":[[0.0,\"#0d0887\"],[0.1111111111111111,\"#46039f\"],[0.2222222222222222,\"#7201a8\"],[0.3333333333333333,\"#9c179e\"],[0.4444444444444444,\"#bd3786\"],[0.5555555555555556,\"#d8576b\"],[0.6666666666666666,\"#ed7953\"],[0.7777777777777778,\"#fb9f3a\"],[0.8888888888888888,\"#fdca26\"],[1.0,\"#f0f921\"]],\"type\":\"histogram2d\"}],\"histogram2dcontour\":[{\"colorbar\":{\"outlinewidth\":0,\"ticks\":\"\"},\"colorscale\":[[0.0,\"#0d0887\"],[0.1111111111111111,\"#46039f\"],[0.2222222222222222,\"#7201a8\"],[0.3333333333333333,\"#9c179e\"],[0.4444444444444444,\"#bd3786\"],[0.5555555555555556,\"#d8576b\"],[0.6666666666666666,\"#ed7953\"],[0.7777777777777778,\"#fb9f3a\"],[0.8888888888888888,\"#fdca26\"],[1.0,\"#f0f921\"]],\"type\":\"histogram2dcontour\"}],\"mesh3d\":[{\"colorbar\":{\"outlinewidth\":0,\"ticks\":\"\"},\"type\":\"mesh3d\"}],\"parcoords\":[{\"line\":{\"colorbar\":{\"outlinewidth\":0,\"ticks\":\"\"}},\"type\":\"parcoords\"}],\"pie\":[{\"automargin\":true,\"type\":\"pie\"}],\"scatter\":[{\"marker\":{\"colorbar\":{\"outlinewidth\":0,\"ticks\":\"\"}},\"type\":\"scatter\"}],\"scatter3d\":[{\"line\":{\"colorbar\":{\"outlinewidth\":0,\"ticks\":\"\"}},\"marker\":{\"colorbar\":{\"outlinewidth\":0,\"ticks\":\"\"}},\"type\":\"scatter3d\"}],\"scattercarpet\":[{\"marker\":{\"colorbar\":{\"outlinewidth\":0,\"ticks\":\"\"}},\"type\":\"scattercarpet\"}],\"scattergeo\":[{\"marker\":{\"colorbar\":{\"outlinewidth\":0,\"ticks\":\"\"}},\"type\":\"scattergeo\"}],\"scattergl\":[{\"marker\":{\"colorbar\":{\"outlinewidth\":0,\"ticks\":\"\"}},\"type\":\"scattergl\"}],\"scattermapbox\":[{\"marker\":{\"colorbar\":{\"outlinewidth\":0,\"ticks\":\"\"}},\"type\":\"scattermapbox\"}],\"scatterpolar\":[{\"marker\":{\"colorbar\":{\"outlinewidth\":0,\"ticks\":\"\"}},\"type\":\"scatterpolar\"}],\"scatterpolargl\":[{\"marker\":{\"colorbar\":{\"outlinewidth\":0,\"ticks\":\"\"}},\"type\":\"scatterpolargl\"}],\"scatterternary\":[{\"marker\":{\"colorbar\":{\"outlinewidth\":0,\"ticks\":\"\"}},\"type\":\"scatterternary\"}],\"surface\":[{\"colorbar\":{\"outlinewidth\":0,\"ticks\":\"\"},\"colorscale\":[[0.0,\"#0d0887\"],[0.1111111111111111,\"#46039f\"],[0.2222222222222222,\"#7201a8\"],[0.3333333333333333,\"#9c179e\"],[0.4444444444444444,\"#bd3786\"],[0.5555555555555556,\"#d8576b\"],[0.6666666666666666,\"#ed7953\"],[0.7777777777777778,\"#fb9f3a\"],[0.8888888888888888,\"#fdca26\"],[1.0,\"#f0f921\"]],\"type\":\"surface\"}],\"table\":[{\"cells\":{\"fill\":{\"color\":\"#EBF0F8\"},\"line\":{\"color\":\"white\"}},\"header\":{\"fill\":{\"color\":\"#C8D4E3\"},\"line\":{\"color\":\"white\"}},\"type\":\"table\"}]},\"layout\":{\"annotationdefaults\":{\"arrowcolor\":\"#2a3f5f\",\"arrowhead\":0,\"arrowwidth\":1},\"autotypenumbers\":\"strict\",\"coloraxis\":{\"colorbar\":{\"outlinewidth\":0,\"ticks\":\"\"}},\"colorscale\":{\"diverging\":[[0,\"#8e0152\"],[0.1,\"#c51b7d\"],[0.2,\"#de77ae\"],[0.3,\"#f1b6da\"],[0.4,\"#fde0ef\"],[0.5,\"#f7f7f7\"],[0.6,\"#e6f5d0\"],[0.7,\"#b8e186\"],[0.8,\"#7fbc41\"],[0.9,\"#4d9221\"],[1,\"#276419\"]],\"sequential\":[[0.0,\"#0d0887\"],[0.1111111111111111,\"#46039f\"],[0.2222222222222222,\"#7201a8\"],[0.3333333333333333,\"#9c179e\"],[0.4444444444444444,\"#bd3786\"],[0.5555555555555556,\"#d8576b\"],[0.6666666666666666,\"#ed7953\"],[0.7777777777777778,\"#fb9f3a\"],[0.8888888888888888,\"#fdca26\"],[1.0,\"#f0f921\"]],\"sequentialminus\":[[0.0,\"#0d0887\"],[0.1111111111111111,\"#46039f\"],[0.2222222222222222,\"#7201a8\"],[0.3333333333333333,\"#9c179e\"],[0.4444444444444444,\"#bd3786\"],[0.5555555555555556,\"#d8576b\"],[0.6666666666666666,\"#ed7953\"],[0.7777777777777778,\"#fb9f3a\"],[0.8888888888888888,\"#fdca26\"],[1.0,\"#f0f921\"]]},\"colorway\":[\"#636efa\",\"#EF553B\",\"#00cc96\",\"#ab63fa\",\"#FFA15A\",\"#19d3f3\",\"#FF6692\",\"#B6E880\",\"#FF97FF\",\"#FECB52\"],\"font\":{\"color\":\"#2a3f5f\"},\"geo\":{\"bgcolor\":\"white\",\"lakecolor\":\"white\",\"landcolor\":\"#E5ECF6\",\"showlakes\":true,\"showland\":true,\"subunitcolor\":\"white\"},\"hoverlabel\":{\"align\":\"left\"},\"hovermode\":\"closest\",\"mapbox\":{\"style\":\"light\"},\"paper_bgcolor\":\"white\",\"plot_bgcolor\":\"#E5ECF6\",\"polar\":{\"angularaxis\":{\"gridcolor\":\"white\",\"linecolor\":\"white\",\"ticks\":\"\"},\"bgcolor\":\"#E5ECF6\",\"radialaxis\":{\"gridcolor\":\"white\",\"linecolor\":\"white\",\"ticks\":\"\"}},\"scene\":{\"xaxis\":{\"backgroundcolor\":\"#E5ECF6\",\"gridcolor\":\"white\",\"gridwidth\":2,\"linecolor\":\"white\",\"showbackground\":true,\"ticks\":\"\",\"zerolinecolor\":\"white\"},\"yaxis\":{\"backgroundcolor\":\"#E5ECF6\",\"gridcolor\":\"white\",\"gridwidth\":2,\"linecolor\":\"white\",\"showbackground\":true,\"ticks\":\"\",\"zerolinecolor\":\"white\"},\"zaxis\":{\"backgroundcolor\":\"#E5ECF6\",\"gridcolor\":\"white\",\"gridwidth\":2,\"linecolor\":\"white\",\"showbackground\":true,\"ticks\":\"\",\"zerolinecolor\":\"white\"}},\"shapedefaults\":{\"line\":{\"color\":\"#2a3f5f\"}},\"ternary\":{\"aaxis\":{\"gridcolor\":\"white\",\"linecolor\":\"white\",\"ticks\":\"\"},\"baxis\":{\"gridcolor\":\"white\",\"linecolor\":\"white\",\"ticks\":\"\"},\"bgcolor\":\"#E5ECF6\",\"caxis\":{\"gridcolor\":\"white\",\"linecolor\":\"white\",\"ticks\":\"\"}},\"title\":{\"x\":0.05},\"xaxis\":{\"automargin\":true,\"gridcolor\":\"white\",\"linecolor\":\"white\",\"ticks\":\"\",\"title\":{\"standoff\":15},\"zerolinecolor\":\"white\",\"zerolinewidth\":2},\"yaxis\":{\"automargin\":true,\"gridcolor\":\"white\",\"linecolor\":\"white\",\"ticks\":\"\",\"title\":{\"standoff\":15},\"zerolinecolor\":\"white\",\"zerolinewidth\":2}}},\"scene\":{\"domain\":{\"x\":[0.0,1.0],\"y\":[0.0,1.0]},\"xaxis\":{\"title\":{\"text\":\"PC 1\"}},\"yaxis\":{\"title\":{\"text\":\"PC 2\"}},\"zaxis\":{\"title\":{\"text\":\"PC 3\"}}},\"coloraxis\":{\"colorbar\":{\"title\":{\"text\":\"color\"}},\"colorscale\":[[0.0,\"#0d0887\"],[0.1111111111111111,\"#46039f\"],[0.2222222222222222,\"#7201a8\"],[0.3333333333333333,\"#9c179e\"],[0.4444444444444444,\"#bd3786\"],[0.5555555555555556,\"#d8576b\"],[0.6666666666666666,\"#ed7953\"],[0.7777777777777778,\"#fb9f3a\"],[0.8888888888888888,\"#fdca26\"],[1.0,\"#f0f921\"]]},\"legend\":{\"tracegroupgap\":0},\"title\":{\"text\":\"Total Explained Variance: 51.80%\"}},                        {\"responsive\": true}                    ).then(function(){\n",
       "                            \n",
       "var gd = document.getElementById('942bb7e2-0534-49a4-8e6c-26e500aed638');\n",
       "var x = new MutationObserver(function (mutations, observer) {{\n",
       "        var display = window.getComputedStyle(gd).display;\n",
       "        if (!display || display === 'none') {{\n",
       "            console.log([gd, 'removed!']);\n",
       "            Plotly.purge(gd);\n",
       "            observer.disconnect();\n",
       "        }}\n",
       "}});\n",
       "\n",
       "// Listen for the removal of the full notebook cells\n",
       "var notebookContainer = gd.closest('#notebook-container');\n",
       "if (notebookContainer) {{\n",
       "    x.observe(notebookContainer, {childList: true});\n",
       "}}\n",
       "\n",
       "// Listen for the clearing of the current output cell\n",
       "var outputEl = gd.closest('.output');\n",
       "if (outputEl) {{\n",
       "    x.observe(outputEl, {childList: true});\n",
       "}}\n",
       "\n",
       "                        })                };                });            </script>        </div>"
      ]
     },
     "metadata": {},
     "output_type": "display_data"
    }
   ],
   "source": [
    "pca = PCA(n_components=3)\n",
    "components = pca.fit_transform(exploit_embedding_list)\n",
    "\n",
    "total_var = pca.explained_variance_ratio_.sum() * 100\n",
    "import plotly.express as px\n",
    "fig = px.colors.qualitative.swatches()\n",
    "fig = px.scatter_3d(\n",
    "    components, x=0, y=1, z=2, color=exploit.km_label,\n",
    "    title=f'Total Explained Variance: {total_var:.2f}%',\n",
    "    labels={'0': 'PC 1', '1': 'PC 2', '2': 'PC 3'},\n",
    "    color_discrete_sequence=px.colors.qualitative.Dark24\n",
    ")\n",
    "fig.show()"
   ]
  },
  {
   "cell_type": "code",
   "execution_count": 162,
   "id": "0d8c1e6a",
   "metadata": {},
   "outputs": [
    {
     "data": {
      "text/plain": [
       "<AxesSubplot:>"
      ]
     },
     "execution_count": 162,
     "metadata": {},
     "output_type": "execute_result"
    },
    {
     "data": {
      "image/png": "[encoded data removed]",
      "text/plain": [
       "<Figure size 432x288 with 2 Axes>"
      ]
     },
     "metadata": {
      "needs_background": "light"
     },
     "output_type": "display_data"
    }
   ],
   "source": [
    "exploit_tsvd_df = pd.DataFrame(exploit_tsvd)\n",
    "svd_exploit_vectors_heatmap = exploit_tsvd_df.iloc[:10].dot(exploit_tsvd_df.iloc[:10].T).round(1)\n",
    "import seaborn as sns\n",
    "sns.heatmap(svd_exploit_vectors_heatmap,cmap='YlGnBu')"
   ]
  },
  {
   "cell_type": "code",
   "execution_count": 195,
   "id": "56581786",
   "metadata": {},
   "outputs": [
    {
     "name": "stderr",
     "output_type": "stream",
     "text": [
      "/home/mini/anaconda3/lib/python3.9/site-packages/sklearn/utils/extmath.py:368: FutureWarning: If 'random_state' is not supplied, the current default is to use 0 as a fixed seed. This will change to  None in version 1.2 leading to non-deterministic results that better reflect nature of the randomized_svd solver. If you want to silence this warning, set 'random_state' to an integer seed or to None explicitly depending if you want your code to be deterministic or not.\n",
      "  warnings.warn(\n"
     ]
    },
    {
     "data": {
      "text/plain": [
       "<Figure size 640x440 with 0 Axes>"
      ]
     },
     "metadata": {},
     "output_type": "display_data"
    },
    {
     "data": {
      "image/png": "[encoded data removed]",
      "text/plain": [
       "<Figure size 700x500 with 1 Axes>"
      ]
     },
     "metadata": {},
     "output_type": "display_data"
    }
   ],
   "source": [
    "# lsa 적용\n",
    "from sklearn.utils.extmath import randomized_svd\n",
    "# U: document-concept matrix, VT: term-concept matrix, sigma: concept-concept matrix, vetctor: document-term matrix obtained by tf-idf\n",
    "# n-components: number of concepts/topics\n",
    "cluster_num = len(set(exploit.km_label) - {-1,0})\n",
    "U, Sigma, VT = randomized_svd(np.array(exploit_embedding_list), n_components=cluster_num, n_iter=100)\n",
    "# umap 사용하여 고차원 데이터 2차원으로 시각화\n",
    "import umap.umap_ as umap\n",
    "X_topics=U*Sigma\n",
    "# n_neighbors: 초기 고차원 그래프 생성 시에 사용되는 nearest neighbor의 숫자로 가장 중요한 파라미터 (값이 작으면: local structure에 집중, 크면: global structure에 집중)\n",
    "embedding = umap.UMAP(n_neighbors=11, min_dist=0.1, random_state=42).fit_transform(X_topics)\n",
    "\n",
    "plt.clf()\n",
    "plt.style.use(\"default\")\n",
    "plt.style.use(\"seaborn-paper\")\n",
    "\n",
    "plt.figure(figsize=(7,5))\n",
    "plt.scatter(embedding[:, 0], embedding[:, 1], \n",
    "c = exploit.km_label,\n",
    "s = 30, # size\n",
    "edgecolor='none',\n",
    "cmap=\"rainbow\"\n",
    ")\n",
    "plt.show()"
   ]
  }
 ],
 "metadata": {
  "kernelspec": {
   "display_name": "Python 3 (ipykernel)",
   "language": "python",
   "name": "python3"
  },
  "language_info": {
   "codemirror_mode": {
    "name": "ipython",
    "version": 3
   },
   "file_extension": ".py",
   "mimetype": "text/x-python",
   "name": "python",
   "nbconvert_exporter": "python",
   "pygments_lexer": "ipython3",
   "version": "3.9.7"
  }
 },
 "nbformat": 4,
 "nbformat_minor": 5
}
