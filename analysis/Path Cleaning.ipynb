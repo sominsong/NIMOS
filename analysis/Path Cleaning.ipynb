{
 "cells": [
  {
   "cell_type": "code",
   "execution_count": 43,
   "id": "a2905db5",
   "metadata": {},
   "outputs": [],
   "source": [
    "import subprocess\n",
    "import pandas as pd\n",
    "\n",
    "cmd = f\"find /opt/output/perm/path/*.json\"\n",
    "paths = subprocess.check_output(cmd, shell=True).decode().strip().split()\n",
    "not_syscall_set = set()\n",
    "# 대체\n",
    "replace_dict = {\"_exit\":\"231\",\"capset\":\"126\",\"ioctl\":\"16\", \"msgrcv\":\"70\", \"setns\":\"308\",\"shutdown\":\"48\",\"time\":\"201\",\"uname\":\"63\",\"__NR_vm86old\":\"436\",\"__NR_socketcall\":\"437\",\"stime\":\"308\"}\n",
    "for path in paths:\n",
    "    EID = path.replace(\"/opt/output/perm/path/\",\"\").replace(\".json\",\"\")\n",
    "    with open(path, \"r\") as f:\n",
    "        pathDict = json.load(f)\n",
    "        for func, syspath_set in pathDict.items():\n",
    "            for i, syspath in enumerate(syspath_set):\n",
    "                for j, syscall in enumerate(syspath):\n",
    "                    if not syscall.isdigit():\n",
    "                        if pathDict[func][i][j] in replace_dict.keys():\n",
    "                            pathDict[func][i][j] = replace_dict[syscall]\n",
    "                        else:\n",
    "                            not_syscall_set.add(syscall)\n",
    "    with open(f\"./new_path/{EID}.json\", 'w', encoding='utf-8') as file:\n",
    "        json.dump(pathDict, file)"
   ]
  },
  {
   "cell_type": "code",
   "execution_count": 44,
   "id": "f5ef248a",
   "metadata": {},
   "outputs": [],
   "source": [
    "cmd = f\"find ./new_path/*.json\"\n",
    "paths = subprocess.check_output(cmd, shell=True).decode().strip().split()\n",
    "# if \"219)\" in not_syscall_set:\n",
    "new_pathDict = dict()\n",
    "for path in paths:\n",
    "    EID = path.replace(\"./new_path/\",\"\").replace(\".json\",\"\")\n",
    "    with open(path, \"r\") as f:\n",
    "        pathDict = json.load(f)\n",
    "        for func, syspath_set in pathDict.items():\n",
    "            new_pathDict[func] = []\n",
    "            for i, syspath in enumerate(syspath_set):\n",
    "                new_syspath = syspath.copy()\n",
    "                for syscall in syspath:\n",
    "                    if syscall in not_syscall_set:\n",
    "                        new_syspath.remove(syscall)\n",
    "                new_pathDict[func].append(new_syspath)\n",
    "    with open(f\"./new_path/{EID}.json\", 'w', encoding='utf-8') as file:\n",
    "        json.dump(new_pathDict, file)\n",
    "    new_pathDict = dict()"
   ]
  }
 ],
 "metadata": {
  "kernelspec": {
   "display_name": "Python 3 (ipykernel)",
   "language": "python",
   "name": "python3"
  },
  "language_info": {
   "codemirror_mode": {
    "name": "ipython",
    "version": 3
   },
   "file_extension": ".py",
   "mimetype": "text/x-python",
   "name": "python",
   "nbconvert_exporter": "python",
   "pygments_lexer": "ipython3",
   "version": "3.9.7"
  }
 },
 "nbformat": 4,
 "nbformat_minor": 5
}
